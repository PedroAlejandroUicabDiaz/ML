{
 "cells": [
  {
   "cell_type": "markdown",
   "metadata": {},
   "source": [
    "# Predict housing prices in Portland, Oregon.\n",
    "\n",
    "Suppose you are selling your house and you want to know what a good market price would be. One way to do this is to first collect information on recent houses sold and make a model of housing prices.\n",
    "The file houses.csv contains a training set of housing prices in Portland,Oregon. The first column is the size of the house (in square feet), the second column is the number of bedrooms and the third column is the price of the house.\n",
    "Dataset is like below :\n",
    "\n",
    "| Size of the house (in square feet) | Number of bedrooms | Price of the house |\n",
    "|------------------------------------|--------------------|--------------------|\n",
    "| 2104                               | 3                  | 399900             |\n",
    "| 1600                               | 3                  | 329900             |\n",
    "| 2400                               | 3                  | 369000             |\n"
   ]
  },
  {
   "cell_type": "markdown",
   "metadata": {},
   "source": [
    "## Univariate Linear Regression\n",
    "\n",
    "We are going to use only one variable (size) to predict prices of houses. We are going to compare the results obtained with Scikit-Learn library with those obtained with the normal equation."
   ]
  },
  {
   "cell_type": "code",
   "execution_count": null,
   "metadata": {},
   "outputs": [],
   "source": [
    "import numpy as np\n",
    "import pandas as pd\n",
    "from sklearn.linear_model import LinearRegression"
   ]
  },
  {
   "cell_type": "code",
   "execution_count": null,
   "metadata": {},
   "outputs": [],
   "source": [
    "houses = pd.read_csv(\"houses.csv\", names=[\"size\", \"rooms\", \"price\"])\n",
    "houses.head()"
   ]
  },
  {
   "cell_type": "code",
   "execution_count": null,
   "metadata": {},
   "outputs": [],
   "source": [
    "x = np.array(houses['size']).reshape(-1, 1)\n",
    "y = np.array(houses['price']).reshape(-1, 1)"
   ]
  },
  {
   "cell_type": "markdown",
   "metadata": {},
   "source": [
    "### Scikit-Learn\n",
    "\n",
    "First, we fit a linear regression model and obtain the coeffcients with Scikit-Learn."
   ]
  },
  {
   "cell_type": "code",
   "execution_count": null,
   "metadata": {},
   "outputs": [],
   "source": [
    "lr = LinearRegression()\n",
    "lr.fit(x, y)\n",
    "print(lr.intercept_, lr.coef_)"
   ]
  },
  {
   "cell_type": "markdown",
   "metadata": {},
   "source": [
    "$\\hat{y} = 71270.49 + 134.53 x$"
   ]
  },
  {
   "cell_type": "markdown",
   "metadata": {},
   "source": [
    "### Normal equations\n",
    "\n",
    "Your turn now is to compute $\\theta_0$ and $\\theta_1$ with the normal equation for univariate linear regression.\n",
    "\n",
    "Once you obtain those parameters compute the residuals of the training data and plot the points with the fitted line."
   ]
  },
  {
   "cell_type": "code",
   "execution_count": null,
   "metadata": {},
   "outputs": [],
   "source": [
    "# Your code"
   ]
  },
  {
   "cell_type": "markdown",
   "metadata": {},
   "source": [
    "### Gradient Descent for LR\n",
    "\n",
    "Now, you should implement the gradient descent algorithm to train a simple linear regression model.\n",
    "\n",
    "* Define a variable for the learning rate $\\alpha$ and try with different values (i.e. 0.01, 0.1).\n",
    "* Initialize $\\theta_0$ and $\\theta_1$ with random values (after it works also try initializing with zeros to see what happens).\n",
    "* Define a maximum number of iterations.\n",
    "* Plot the training error after each epoch (full pass over the data).\n",
    "* Plot in 3D the value of $J(\\theta_0, \\theta_1)$ as a function of the parameters.\n"
   ]
  },
  {
   "cell_type": "code",
   "execution_count": null,
   "metadata": {},
   "outputs": [],
   "source": [
    "# Your code"
   ]
  },
  {
   "cell_type": "markdown",
   "metadata": {},
   "source": [
    "## References \n",
    "\n",
    "Machine Learning course on [Coursera](https://www.coursera.org/learn/machine-learning)"
   ]
  },
  {
   "cell_type": "code",
   "execution_count": null,
   "metadata": {},
   "outputs": [],
   "source": []
  }
 ],
 "metadata": {
  "kernelspec": {
   "display_name": "Python 3 (ipykernel)",
   "language": "python",
   "name": "python3"
  },
  "language_info": {
   "codemirror_mode": {
    "name": "ipython",
    "version": 3
   },
   "file_extension": ".py",
   "mimetype": "text/x-python",
   "name": "python",
   "nbconvert_exporter": "python",
   "pygments_lexer": "ipython3",
   "version": "3.9.7"
  }
 },
 "nbformat": 4,
 "nbformat_minor": 2
}
